{
 "cells": [
  {
   "cell_type": "markdown",
   "metadata": {},
   "source": [
    "connect jupyter note book to local psql schemer\n",
    "\n",
    "1. download psql to local computer\n",
    "2. download database (newsdata.sql)\n",
    "3. create database and table(test1) for further upload newsdata.sql\n",
    "3. excute newsdata.sql into psql in local computer\n",
    "4. download psql to python3\n",
    "5. connect python to local psql table\n",
    "6. excute python code "
   ]
  },
  {
   "cell_type": "code",
   "execution_count": null,
   "metadata": {},
   "outputs": [],
   "source": [
    "## download psql and install "
   ]
  },
  {
   "cell_type": "code",
   "execution_count": 1,
   "metadata": {},
   "outputs": [
    {
     "name": "stdout",
     "output_type": "stream",
     "text": [
      "Collecting psycopg2-binary\n",
      "  Downloading psycopg2_binary-2.9.2-cp37-cp37m-macosx_10_14_x86_64.macosx_10_9_intel.macosx_10_9_x86_64.macosx_10_10_intel.macosx_10_10_x86_64.whl (2.2 MB)\n",
      "\u001b[K     |████████████████████████████████| 2.2 MB 2.1 MB/s eta 0:00:01\n",
      "\u001b[?25hInstalling collected packages: psycopg2-binary\n",
      "Successfully installed psycopg2-binary-2.9.2\n"
     ]
    }
   ],
   "source": [
    "!pip install psycopg2-binary"
   ]
  },
  {
   "cell_type": "code",
   "execution_count": 2,
   "metadata": {},
   "outputs": [],
   "source": [
    "import psycopg2"
   ]
  },
  {
   "cell_type": "code",
   "execution_count": 3,
   "metadata": {},
   "outputs": [],
   "source": [
    "query1 = \"\"\"SELECT title,COUNT(*) AS num\n",
    "FROM articles,log\n",
    "WHERE log.path ='/article/'|| articles.slug\n",
    "GROUP BY articles.title\n",
    "ORDER BY num DESC LIMIT 3;\"\"\"\n",
    "\n",
    "\n",
    "query2 = \"\"\"SELECT authors.name, COUNT(*) AS num\n",
    "FROM authors LEFT JOIN articles\n",
    "ON authors.id = articles.author\n",
    "LEFT JOIN log\n",
    "ON log.path ='/article/'|| articles.slug\n",
    "GROUP BY authors.name\n",
    "ORDER BY num DESC LIMIT 3;\"\"\"\n",
    "\n",
    "\n",
    "query3 = \"\"\"SELECT result,date\n",
    "FROM error_percentage\n",
    "WHERE error_percentage.result>1;\"\"\""
   ]
  },
  {
   "cell_type": "code",
   "execution_count": 11,
   "metadata": {},
   "outputs": [],
   "source": [
    "# Connect to the local PostgreSQL database. Returns a database connection.\n",
    "def connect():\n",
    "    try:\n",
    "        return psycopg2.connect(host=\"localhost\",\n",
    "    database=\"test1\",\n",
    "    user=\"postgres\",\n",
    "    password=\"postgres\")\n",
    "    except (Exception, psycopg2.DatabaseError)as error:\n",
    "        print(error)"
   ]
  },
  {
   "cell_type": "code",
   "execution_count": 12,
   "metadata": {},
   "outputs": [],
   "source": [
    "# What are the most popular three articles of all time ?\n",
    "def most_3_articles(query1):\n",
    "    db = connect()\n",
    "    cursor = db.cursor()\n",
    "    cursor.execute(query1)\n",
    "    run1 = cursor.fetchall()\n",
    "    db.close()\n",
    "    return run1"
   ]
  },
  {
   "cell_type": "code",
   "execution_count": 13,
   "metadata": {},
   "outputs": [],
   "source": [
    "def formatted1():\n",
    "    print('\\n The most popular three articles of all time are :')\n",
    "    for count, i in enumerate(most_3_articles(query1), 1):\n",
    "        print ('(' + str(count) + ') ' + \"<\"+str(i[0])+\">\"\n",
    "               + \" rank in No.\"+(str(count))\n",
    "               + \" with total \" + str(i[1]) + \" views\")"
   ]
  },
  {
   "cell_type": "code",
   "execution_count": 14,
   "metadata": {},
   "outputs": [],
   "source": [
    "# What are the most 3 popular authors ?\n",
    "def alltime_popular_authors(query2):\n",
    "    db = connect()\n",
    "    cursor = db.cursor()\n",
    "    cursor.execute(query2)\n",
    "    run2 = cursor.fetchall()\n",
    "    db.close()\n",
    "    return run2\n",
    "\n",
    "\n",
    "def formatted2():\n",
    "    print('\\nThe morst 3 popular authors are :')\n",
    "    count = 1\n",
    "    for count, i in enumerate(alltime_popular_authors(query2), 1):\n",
    "        print ('(' + str(count) + ') ' + \"Author, \"+str(i[0]) + \" with total \"\n",
    "               + str(i[1]) + \" views\")"
   ]
  },
  {
   "cell_type": "code",
   "execution_count": 15,
   "metadata": {},
   "outputs": [],
   "source": [
    "# On which days did more than 1% of requests lead to errors?\n",
    "def days_error(query3):\n",
    "    db = connect()\n",
    "    cursor = db.cursor()\n",
    "    cursor.execute(query3)\n",
    "    run3 = cursor.fetchall()\n",
    "    db.close()\n",
    "    return run3\n",
    "\n",
    "\n",
    "def formatted3():\n",
    "    print('\\nThe error precentage result:')\n",
    "    for count, i in enumerate(days_error(query3), 1):\n",
    "        print ('(' + str(count) + ') ' + \"On \"+str(i[1])\n",
    "               + \", The error precentage is \" + str(round(i[0], 2))\n",
    "               + \"%\"+\" which over 1.0% of the requests.\")"
   ]
  },
  {
   "cell_type": "code",
   "execution_count": 16,
   "metadata": {},
   "outputs": [
    {
     "name": "stdout",
     "output_type": "stream",
     "text": [
      "\n",
      " The most popular three articles of all time are :\n",
      "(1) <Candidate is jerk, alleges rival> rank in No.1 with total 338647 views\n",
      "(2) <Bears love berries, alleges bear> rank in No.2 with total 253801 views\n",
      "(3) <Bad things gone, say good people> rank in No.3 with total 170098 views\n",
      "\n",
      "The morst 3 popular authors are :\n",
      "(1) Author, Ursula La Multa with total 507594 views\n",
      "(2) Author, Rudolf von Treppenwitz with total 423457 views\n",
      "(3) Author, Anonymous Contributor with total 170098 views\n",
      "\n",
      "The error precentage result:\n",
      "(1) On 2016-07-17, The error precentage is 2.28% which over 1.0% of the requests.\n"
     ]
    }
   ],
   "source": [
    "if __name__ == \"__main__\":\n",
    "    print\n",
    "    formatted1()\n",
    "    formatted2()\n",
    "    formatted3()"
   ]
  },
  {
   "cell_type": "code",
   "execution_count": null,
   "metadata": {},
   "outputs": [],
   "source": []
  }
 ],
 "metadata": {
  "kernelspec": {
   "display_name": "Python 3",
   "language": "python",
   "name": "python3"
  },
  "language_info": {
   "codemirror_mode": {
    "name": "ipython",
    "version": 3
   },
   "file_extension": ".py",
   "mimetype": "text/x-python",
   "name": "python",
   "nbconvert_exporter": "python",
   "pygments_lexer": "ipython3",
   "version": "3.7.9"
  }
 },
 "nbformat": 4,
 "nbformat_minor": 4
}
